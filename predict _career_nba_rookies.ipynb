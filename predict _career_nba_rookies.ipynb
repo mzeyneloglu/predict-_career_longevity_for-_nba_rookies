{
 "cells": [
  {
   "cell_type": "markdown",
   "id": "2e7e05bc",
   "metadata": {},
   "source": [
    "## Predict Career Longevity for NBA Rookies"
   ]
  },
  {
   "cell_type": "markdown",
   "id": "94211111",
   "metadata": {},
   "source": [
    "**About the data**\n",
    "\n",
    "The dataset contains player statistics for NRB Rookies. There are 1100+ observations in the train dataset with 19 variables excluding the target variable \n",
    "\n",
    " \n",
    "\n",
    "**Data Description**\n",
    "\n",
    " \n",
    "\n",
    "GP: Games Played (here you might find some values in decimal, consider them to be the floor integer, for example, if the value is 12.789, the number of games played by the player is 12)\n",
    "\n",
    " \n",
    "\n",
    "The values for given attributes are averaged over all the games played by players\n",
    "\n",
    "- MIN:  Minutes Played\n",
    "\n",
    "- PTS: Number of points per game\n",
    "\n",
    "- FGM: Field goals made\n",
    "- FGA: Field goals attempt\n",
    "\n",
    "- FG%: field goals percent\n",
    "\n",
    "- 3P Made: 3 point made\n",
    "\n",
    "- 3PA: 3 points attempt\n",
    "\n",
    "- 3P%: 3 point percent\n",
    "\n",
    "- FTM: Free throw made\n",
    "\n",
    "- FTA: Free throw attempts\n",
    "\n",
    "- FT%: Free throw percent\n",
    "\n",
    "- OREB: Offensive rebounds\n",
    "\n",
    "- DREB: Defensive rebounds\n",
    "\n",
    "- REB: Rebounds\n",
    "\n",
    "- AST: Assists\n",
    "\n",
    "- STL: Steals\n",
    "\n",
    "- BLK: Blocks\n",
    "\n",
    "- TOV: Turnovers\n",
    "\n",
    "- Target: 0 if career years played < 5, 1 if career years played >= 5"
   ]
  },
  {
   "cell_type": "markdown",
   "id": "af068057",
   "metadata": {},
   "source": [
    "### Importing Libraries"
   ]
  },
  {
   "cell_type": "code",
   "execution_count": 7,
   "id": "cd5b8bb0",
   "metadata": {},
   "outputs": [],
   "source": [
    "# Manipulation Libraries\n",
    "import pandas as pd\n",
    "import numpy as np\n",
    "import seaborn as sns\n",
    "import matplotlib.pyplot as plt\n",
    "\n",
    "# Sklearn Libraries\n",
    "from sklearn.preprocessing import StandardScaler, MinMaxScaler\n",
    "from sklearn.model_selection import train_test_split , cross_val_score , KFold , RandomizedSearchCV,GridSearchCV\n",
    "from sklearn.tree import DecisionTreeClassifier\n",
    "from sklearn.ensemble import RandomForestClassifier,GradientBoostingClassifier\n",
    "from sklearn.neighbors import KNeighborsClassifier\n",
    "from sklearn.linear_model import LogisticRegression\n",
    "from xgboost import XGBClassifier\n",
    "from sklearn.svm import SVC\n",
    "from sklearn.metrics import accuracy_score\n",
    "import xgboost as xgb\n",
    "\n",
    "# More Libraries\n",
    "from statsmodels.stats.outliers_influence import variance_inflation_factor\n",
    "from statsmodels.tools.tools import add_constant\n",
    "from termcolor import colored\n",
    "import warnings\n",
    "warnings.filterwarnings('ignore')"
   ]
  },
  {
   "cell_type": "markdown",
   "id": "da9db9bf",
   "metadata": {},
   "source": [
    "### Load Dataset"
   ]
  },
  {
   "cell_type": "code",
   "execution_count": 8,
   "id": "80c2024b",
   "metadata": {},
   "outputs": [],
   "source": [
    "def load_dataset(path):\n",
    "    return pd.read_csv(path)"
   ]
  },
  {
   "cell_type": "code",
   "execution_count": 9,
   "id": "593a1a93",
   "metadata": {},
   "outputs": [],
   "source": [
    "train = load_dataset('train_data.csv')\n",
    "test = load_dataset('test_data.csv')"
   ]
  },
  {
   "cell_type": "markdown",
   "id": "5df8b8e8",
   "metadata": {},
   "source": [
    "### Preview Dataset"
   ]
  },
  {
   "cell_type": "code",
   "execution_count": 10,
   "id": "dd58978f",
   "metadata": {},
   "outputs": [
    {
     "data": {
      "text/html": [
       "<div>\n",
       "<style scoped>\n",
       "    .dataframe tbody tr th:only-of-type {\n",
       "        vertical-align: middle;\n",
       "    }\n",
       "\n",
       "    .dataframe tbody tr th {\n",
       "        vertical-align: top;\n",
       "    }\n",
       "\n",
       "    .dataframe thead th {\n",
       "        text-align: right;\n",
       "    }\n",
       "</style>\n",
       "<table border=\"1\" class=\"dataframe\">\n",
       "  <thead>\n",
       "    <tr style=\"text-align: right;\">\n",
       "      <th></th>\n",
       "      <th>GP</th>\n",
       "      <th>MIN</th>\n",
       "      <th>PTS</th>\n",
       "      <th>FGM</th>\n",
       "      <th>FGA</th>\n",
       "      <th>FG%</th>\n",
       "      <th>3P Made</th>\n",
       "      <th>3PA</th>\n",
       "      <th>3P%</th>\n",
       "      <th>FTM</th>\n",
       "      <th>FTA</th>\n",
       "      <th>FT%</th>\n",
       "      <th>OREB</th>\n",
       "      <th>DREB</th>\n",
       "      <th>REB</th>\n",
       "      <th>AST</th>\n",
       "      <th>STL</th>\n",
       "      <th>BLK</th>\n",
       "      <th>TOV</th>\n",
       "      <th>Target</th>\n",
       "    </tr>\n",
       "  </thead>\n",
       "  <tbody>\n",
       "    <tr>\n",
       "      <th>0</th>\n",
       "      <td>59.0</td>\n",
       "      <td>12.8</td>\n",
       "      <td>3.4</td>\n",
       "      <td>1.3</td>\n",
       "      <td>2.6</td>\n",
       "      <td>51.0</td>\n",
       "      <td>0.2</td>\n",
       "      <td>0.3</td>\n",
       "      <td>50.0</td>\n",
       "      <td>0.7</td>\n",
       "      <td>0.8</td>\n",
       "      <td>78.0</td>\n",
       "      <td>1.1</td>\n",
       "      <td>2.3</td>\n",
       "      <td>3.3</td>\n",
       "      <td>0.5</td>\n",
       "      <td>0.3</td>\n",
       "      <td>0.4</td>\n",
       "      <td>0.5</td>\n",
       "      <td>1</td>\n",
       "    </tr>\n",
       "    <tr>\n",
       "      <th>1</th>\n",
       "      <td>31.0</td>\n",
       "      <td>10.7</td>\n",
       "      <td>3.4</td>\n",
       "      <td>1.2</td>\n",
       "      <td>3.3</td>\n",
       "      <td>35.3</td>\n",
       "      <td>0.5</td>\n",
       "      <td>2.1</td>\n",
       "      <td>25.8</td>\n",
       "      <td>0.5</td>\n",
       "      <td>0.9</td>\n",
       "      <td>55.2</td>\n",
       "      <td>0.3</td>\n",
       "      <td>1.1</td>\n",
       "      <td>1.4</td>\n",
       "      <td>0.4</td>\n",
       "      <td>0.3</td>\n",
       "      <td>0.1</td>\n",
       "      <td>0.2</td>\n",
       "      <td>0</td>\n",
       "    </tr>\n",
       "    <tr>\n",
       "      <th>2</th>\n",
       "      <td>48.0</td>\n",
       "      <td>9.3</td>\n",
       "      <td>4.5</td>\n",
       "      <td>1.7</td>\n",
       "      <td>3.4</td>\n",
       "      <td>49.7</td>\n",
       "      <td>0.0</td>\n",
       "      <td>0.1</td>\n",
       "      <td>0.0</td>\n",
       "      <td>1.2</td>\n",
       "      <td>1.9</td>\n",
       "      <td>61.5</td>\n",
       "      <td>0.4</td>\n",
       "      <td>0.8</td>\n",
       "      <td>1.2</td>\n",
       "      <td>0.8</td>\n",
       "      <td>0.5</td>\n",
       "      <td>0.4</td>\n",
       "      <td>1.0</td>\n",
       "      <td>0</td>\n",
       "    </tr>\n",
       "    <tr>\n",
       "      <th>3</th>\n",
       "      <td>80.0</td>\n",
       "      <td>27.7</td>\n",
       "      <td>11.2</td>\n",
       "      <td>3.5</td>\n",
       "      <td>9.4</td>\n",
       "      <td>37.4</td>\n",
       "      <td>1.3</td>\n",
       "      <td>4.1</td>\n",
       "      <td>32.9</td>\n",
       "      <td>2.8</td>\n",
       "      <td>3.3</td>\n",
       "      <td>85.0</td>\n",
       "      <td>0.8</td>\n",
       "      <td>1.6</td>\n",
       "      <td>2.4</td>\n",
       "      <td>3.9</td>\n",
       "      <td>1.3</td>\n",
       "      <td>0.1</td>\n",
       "      <td>2.2</td>\n",
       "      <td>1</td>\n",
       "    </tr>\n",
       "    <tr>\n",
       "      <th>4</th>\n",
       "      <td>58.0</td>\n",
       "      <td>18.4</td>\n",
       "      <td>5.8</td>\n",
       "      <td>1.9</td>\n",
       "      <td>5.3</td>\n",
       "      <td>36.7</td>\n",
       "      <td>0.0</td>\n",
       "      <td>0.1</td>\n",
       "      <td>25.0</td>\n",
       "      <td>1.9</td>\n",
       "      <td>3.1</td>\n",
       "      <td>61.7</td>\n",
       "      <td>0.5</td>\n",
       "      <td>0.7</td>\n",
       "      <td>1.2</td>\n",
       "      <td>1.9</td>\n",
       "      <td>1.1</td>\n",
       "      <td>0.2</td>\n",
       "      <td>1.7</td>\n",
       "      <td>0</td>\n",
       "    </tr>\n",
       "  </tbody>\n",
       "</table>\n",
       "</div>"
      ],
      "text/plain": [
       "     GP   MIN   PTS  FGM  FGA   FG%  3P Made  3PA   3P%  FTM  FTA   FT%  OREB  \\\n",
       "0  59.0  12.8   3.4  1.3  2.6  51.0      0.2  0.3  50.0  0.7  0.8  78.0   1.1   \n",
       "1  31.0  10.7   3.4  1.2  3.3  35.3      0.5  2.1  25.8  0.5  0.9  55.2   0.3   \n",
       "2  48.0   9.3   4.5  1.7  3.4  49.7      0.0  0.1   0.0  1.2  1.9  61.5   0.4   \n",
       "3  80.0  27.7  11.2  3.5  9.4  37.4      1.3  4.1  32.9  2.8  3.3  85.0   0.8   \n",
       "4  58.0  18.4   5.8  1.9  5.3  36.7      0.0  0.1  25.0  1.9  3.1  61.7   0.5   \n",
       "\n",
       "   DREB  REB  AST  STL  BLK  TOV  Target  \n",
       "0   2.3  3.3  0.5  0.3  0.4  0.5       1  \n",
       "1   1.1  1.4  0.4  0.3  0.1  0.2       0  \n",
       "2   0.8  1.2  0.8  0.5  0.4  1.0       0  \n",
       "3   1.6  2.4  3.9  1.3  0.1  2.2       1  \n",
       "4   0.7  1.2  1.9  1.1  0.2  1.7       0  "
      ]
     },
     "execution_count": 10,
     "metadata": {},
     "output_type": "execute_result"
    }
   ],
   "source": [
    "train.head()"
   ]
  },
  {
   "cell_type": "code",
   "execution_count": 11,
   "id": "70d2be13",
   "metadata": {},
   "outputs": [
    {
     "data": {
      "text/html": [
       "<div>\n",
       "<style scoped>\n",
       "    .dataframe tbody tr th:only-of-type {\n",
       "        vertical-align: middle;\n",
       "    }\n",
       "\n",
       "    .dataframe tbody tr th {\n",
       "        vertical-align: top;\n",
       "    }\n",
       "\n",
       "    .dataframe thead th {\n",
       "        text-align: right;\n",
       "    }\n",
       "</style>\n",
       "<table border=\"1\" class=\"dataframe\">\n",
       "  <thead>\n",
       "    <tr style=\"text-align: right;\">\n",
       "      <th></th>\n",
       "      <th>GP</th>\n",
       "      <th>MIN</th>\n",
       "      <th>PTS</th>\n",
       "      <th>FGM</th>\n",
       "      <th>FGA</th>\n",
       "      <th>FG%</th>\n",
       "      <th>3P Made</th>\n",
       "      <th>3PA</th>\n",
       "      <th>3P%</th>\n",
       "      <th>FTM</th>\n",
       "      <th>FTA</th>\n",
       "      <th>FT%</th>\n",
       "      <th>OREB</th>\n",
       "      <th>DREB</th>\n",
       "      <th>REB</th>\n",
       "      <th>AST</th>\n",
       "      <th>STL</th>\n",
       "      <th>BLK</th>\n",
       "      <th>TOV</th>\n",
       "    </tr>\n",
       "  </thead>\n",
       "  <tbody>\n",
       "    <tr>\n",
       "      <th>0</th>\n",
       "      <td>44.0</td>\n",
       "      <td>13.0</td>\n",
       "      <td>6.6</td>\n",
       "      <td>2.5</td>\n",
       "      <td>5.6</td>\n",
       "      <td>45.3</td>\n",
       "      <td>0.4</td>\n",
       "      <td>1.3</td>\n",
       "      <td>32.7</td>\n",
       "      <td>1.1</td>\n",
       "      <td>1.7</td>\n",
       "      <td>65.3</td>\n",
       "      <td>0.8</td>\n",
       "      <td>0.6</td>\n",
       "      <td>1.4</td>\n",
       "      <td>1.1</td>\n",
       "      <td>0.7</td>\n",
       "      <td>0.2</td>\n",
       "      <td>1.0</td>\n",
       "    </tr>\n",
       "    <tr>\n",
       "      <th>1</th>\n",
       "      <td>51.0</td>\n",
       "      <td>9.1</td>\n",
       "      <td>2.7</td>\n",
       "      <td>1.0</td>\n",
       "      <td>2.7</td>\n",
       "      <td>39.0</td>\n",
       "      <td>0.1</td>\n",
       "      <td>0.3</td>\n",
       "      <td>23.5</td>\n",
       "      <td>0.6</td>\n",
       "      <td>0.8</td>\n",
       "      <td>69.8</td>\n",
       "      <td>0.3</td>\n",
       "      <td>0.7</td>\n",
       "      <td>1.0</td>\n",
       "      <td>0.9</td>\n",
       "      <td>0.6</td>\n",
       "      <td>0.1</td>\n",
       "      <td>0.7</td>\n",
       "    </tr>\n",
       "    <tr>\n",
       "      <th>2</th>\n",
       "      <td>51.0</td>\n",
       "      <td>15.1</td>\n",
       "      <td>5.7</td>\n",
       "      <td>2.2</td>\n",
       "      <td>5.2</td>\n",
       "      <td>41.2</td>\n",
       "      <td>0.3</td>\n",
       "      <td>0.8</td>\n",
       "      <td>32.5</td>\n",
       "      <td>1.1</td>\n",
       "      <td>1.6</td>\n",
       "      <td>69.1</td>\n",
       "      <td>0.4</td>\n",
       "      <td>1.3</td>\n",
       "      <td>1.7</td>\n",
       "      <td>2.1</td>\n",
       "      <td>0.7</td>\n",
       "      <td>0.0</td>\n",
       "      <td>1.4</td>\n",
       "    </tr>\n",
       "    <tr>\n",
       "      <th>3</th>\n",
       "      <td>15.0</td>\n",
       "      <td>7.9</td>\n",
       "      <td>1.9</td>\n",
       "      <td>0.7</td>\n",
       "      <td>2.5</td>\n",
       "      <td>27.0</td>\n",
       "      <td>0.0</td>\n",
       "      <td>0.0</td>\n",
       "      <td>0.0</td>\n",
       "      <td>0.5</td>\n",
       "      <td>0.8</td>\n",
       "      <td>66.7</td>\n",
       "      <td>0.5</td>\n",
       "      <td>1.1</td>\n",
       "      <td>1.5</td>\n",
       "      <td>0.5</td>\n",
       "      <td>0.1</td>\n",
       "      <td>0.1</td>\n",
       "      <td>1.0</td>\n",
       "    </tr>\n",
       "    <tr>\n",
       "      <th>4</th>\n",
       "      <td>36.0</td>\n",
       "      <td>14.4</td>\n",
       "      <td>5.8</td>\n",
       "      <td>2.3</td>\n",
       "      <td>5.4</td>\n",
       "      <td>43.1</td>\n",
       "      <td>0.0</td>\n",
       "      <td>0.1</td>\n",
       "      <td>50.0</td>\n",
       "      <td>1.1</td>\n",
       "      <td>1.4</td>\n",
       "      <td>82.0</td>\n",
       "      <td>1.1</td>\n",
       "      <td>1.4</td>\n",
       "      <td>2.4</td>\n",
       "      <td>0.9</td>\n",
       "      <td>0.3</td>\n",
       "      <td>0.2</td>\n",
       "      <td>0.9</td>\n",
       "    </tr>\n",
       "  </tbody>\n",
       "</table>\n",
       "</div>"
      ],
      "text/plain": [
       "     GP   MIN  PTS  FGM  FGA   FG%  3P Made  3PA   3P%  FTM  FTA   FT%  OREB  \\\n",
       "0  44.0  13.0  6.6  2.5  5.6  45.3      0.4  1.3  32.7  1.1  1.7  65.3   0.8   \n",
       "1  51.0   9.1  2.7  1.0  2.7  39.0      0.1  0.3  23.5  0.6  0.8  69.8   0.3   \n",
       "2  51.0  15.1  5.7  2.2  5.2  41.2      0.3  0.8  32.5  1.1  1.6  69.1   0.4   \n",
       "3  15.0   7.9  1.9  0.7  2.5  27.0      0.0  0.0   0.0  0.5  0.8  66.7   0.5   \n",
       "4  36.0  14.4  5.8  2.3  5.4  43.1      0.0  0.1  50.0  1.1  1.4  82.0   1.1   \n",
       "\n",
       "   DREB  REB  AST  STL  BLK  TOV  \n",
       "0   0.6  1.4  1.1  0.7  0.2  1.0  \n",
       "1   0.7  1.0  0.9  0.6  0.1  0.7  \n",
       "2   1.3  1.7  2.1  0.7  0.0  1.4  \n",
       "3   1.1  1.5  0.5  0.1  0.1  1.0  \n",
       "4   1.4  2.4  0.9  0.3  0.2  0.9  "
      ]
     },
     "execution_count": 11,
     "metadata": {},
     "output_type": "execute_result"
    }
   ],
   "source": [
    "test.head()"
   ]
  },
  {
   "cell_type": "code",
   "execution_count": 12,
   "id": "e745bcbe",
   "metadata": {},
   "outputs": [
    {
     "name": "stdout",
     "output_type": "stream",
     "text": [
      "~~~~~~~~~~~~~~~~~~~~~~~~~~ SHAPE ~~~~~~~~~~~~~~~~~~~~~~~~~~~\n",
      "Observations -------> 1101\n",
      "Features     -------> 20\n",
      "Shape of dataset: \u001b[31m(1101, 20)\u001b[0m\n",
      "~~~~~~~~~~~~~~~~~~~~ Types of Features ~~~~~~~~~~~~~~~~~~~~~\n",
      "GP         float64\n",
      "MIN        float64\n",
      "PTS        float64\n",
      "FGM        float64\n",
      "FGA        float64\n",
      "FG%        float64\n",
      "3P Made    float64\n",
      "3PA        float64\n",
      "3P%        float64\n",
      "FTM        float64\n",
      "FTA        float64\n",
      "FT%        float64\n",
      "OREB       float64\n",
      "DREB       float64\n",
      "REB        float64\n",
      "AST        float64\n",
      "STL        float64\n",
      "BLK        float64\n",
      "TOV        float64\n",
      "Target       int64\n",
      "dtype: object \n",
      "\n",
      "~~~~~~~~~~~~~~~~~~~ Categorical Features ~~~~~~~~~~~~~~~~~~~\n",
      "Features -------> Index([], dtype='object')\n",
      "\t\n",
      "Size: 0\n",
      "~~~~~~~~~~~~~~~~~~~~ Numerical Features ~~~~~~~~~~~~~~~~~~~~\n",
      "Features -------> Index(['GP', 'MIN', 'PTS', 'FGM', 'FGA', 'FG%', '3P Made', '3PA', '3P%', 'FTM',\n",
      "       'FTA', 'FT%', 'OREB', 'DREB', 'REB', 'AST', 'STL', 'BLK', 'TOV',\n",
      "       'Target'],\n",
      "      dtype='object')\n",
      "\t\n",
      "Size: 20\n",
      "~~~~~~~~~~~~~~~~ Duplicate Values Analysis ~~~~~~~~~~~~~~~~~\n",
      "\n",
      " 7 \n",
      "\n",
      "~~~~~~~~~~~~~~~~~~~~~~~~ QUANTILES ~~~~~~~~~~~~~~~~~~~~~~~~~\n",
      "\n",
      "               0.25       0.75\n",
      "GP       46.223257  76.000000\n",
      "MIN      10.492268  21.830403\n",
      "PTS       3.587756   8.300000\n",
      "FGM       1.400000   3.200000\n",
      "FGA       3.200000   6.900000\n",
      "FG%      40.000000  47.700000\n",
      "3P Made   0.000000   0.400000\n",
      "3PA       0.000000   1.195634\n",
      "3P%       0.000000  32.300000\n",
      "FTM       0.600000   1.600000\n",
      "FTA       0.900000   2.200000\n",
      "FT%      64.900000  77.436718\n",
      "OREB      0.400000   1.300000\n",
      "DREB      1.000000   2.500000\n",
      "REB       1.400000   3.700000\n",
      "AST       0.600000   1.900000\n",
      "STL       0.300000   0.800000\n",
      "BLK       0.100000   0.400000\n",
      "TOV       0.700000   1.400000\n",
      "Target    0.000000   1.000000 \n",
      "\n"
     ]
    }
   ],
   "source": [
    "def check_df(df):\n",
    "    print(\" SHAPE \".center(60, '~'))\n",
    "    print('Observations -------> {}'.format(df.shape[0]))\n",
    "    print('Features     -------> {}'.format(df.shape[1]))\n",
    "    print(f\"Shape of dataset: {colored(df.shape, 'red')}\")\n",
    "    print(\" Types of Features \".center(60, '~'))\n",
    "    print(df.dtypes,\"\\n\")\n",
    "    print(\" Categorical Features \".center(60, '~'))\n",
    "    print(f'Features -------> {df.select_dtypes(include = [object]).columns}')\n",
    "    print('\\t')\n",
    "    print (f'Size: {len(df.select_dtypes(include = [object]).columns)}')\n",
    "    print(\" Numerical Features \".center(60, '~'))\n",
    "    print(f'Features -------> {df.select_dtypes(exclude = [object]).columns}')\n",
    "    print('\\t')\n",
    "    print (f'Size: {len(df.select_dtypes(exclude = [object]).columns)}')\n",
    "    print(' Duplicate Values Analysis '.center(60, '~'))\n",
    "    print(\"\\n\",df.duplicated().sum(),\"\\n\")\n",
    "    print(\" QUANTILES \".center(60, '~'))\n",
    "    print(\"\\n\",df.quantile([0.25, 0.75]).T,\"\\n\")\n",
    "    \n",
    "check_df(train)"
   ]
  },
  {
   "cell_type": "code",
   "execution_count": 370,
   "id": "bf0c312a",
   "metadata": {},
   "outputs": [
    {
     "name": "stdout",
     "output_type": "stream",
     "text": [
      "<class 'pandas.core.frame.DataFrame'>\n",
      "RangeIndex: 1101 entries, 0 to 1100\n",
      "Data columns (total 20 columns):\n",
      " #   Column   Non-Null Count  Dtype  \n",
      "---  ------   --------------  -----  \n",
      " 0   GP       1101 non-null   float64\n",
      " 1   MIN      1101 non-null   float64\n",
      " 2   PTS      1101 non-null   float64\n",
      " 3   FGM      1101 non-null   float64\n",
      " 4   FGA      1101 non-null   float64\n",
      " 5   FG%      1101 non-null   float64\n",
      " 6   3P Made  1101 non-null   float64\n",
      " 7   3PA      1101 non-null   float64\n",
      " 8   3P%      1101 non-null   float64\n",
      " 9   FTM      1101 non-null   float64\n",
      " 10  FTA      1101 non-null   float64\n",
      " 11  FT%      1101 non-null   float64\n",
      " 12  OREB     1101 non-null   float64\n",
      " 13  DREB     1101 non-null   float64\n",
      " 14  REB      1101 non-null   float64\n",
      " 15  AST      1101 non-null   float64\n",
      " 16  STL      1101 non-null   float64\n",
      " 17  BLK      1101 non-null   float64\n",
      " 18  TOV      1101 non-null   float64\n",
      " 19  Target   1101 non-null   int64  \n",
      "dtypes: float64(19), int64(1)\n",
      "memory usage: 172.2 KB\n"
     ]
    }
   ],
   "source": [
    "train.info()"
   ]
  },
  {
   "cell_type": "markdown",
   "id": "207cc070",
   "metadata": {},
   "source": [
    "**Target Variable Distribution**"
   ]
  },
  {
   "cell_type": "code",
   "execution_count": 371,
   "id": "01ba0fcf",
   "metadata": {},
   "outputs": [
    {
     "data": {
      "image/png": "[encoded data removed]",
      "text/plain": [
       "<Figure size 504x360 with 1 Axes>"
      ]
     },
     "metadata": {
      "needs_background": "light"
     },
     "output_type": "display_data"
    }
   ],
   "source": [
    "# Target Variable Distribution - Dataset Balance Check\n",
    "plt.figure(figsize=(7,5))\n",
    "sns.histplot(train.Target)\n",
    "plt.show()"
   ]
  },
  {
   "cell_type": "markdown",
   "id": "cee60e21",
   "metadata": {},
   "source": [
    "We can say that the target variable has a very good distribution and as a result, our target variable is not unbalanced."
   ]
  },
  {
   "cell_type": "markdown",
   "id": "5145a598",
   "metadata": {},
   "source": [
    "### Descriptive Statistics"
   ]
  },
  {
   "cell_type": "code",
   "execution_count": 372,
   "id": "ec85f16f",
   "metadata": {},
   "outputs": [
    {
     "data": {
      "image/png": "[encoded data removed]",
      "text/plain": [
       "<Figure size 1008x720 with 1 Axes>"
      ]
     },
     "metadata": {
      "needs_background": "light"
     },
     "output_type": "display_data"
    }
   ],
   "source": [
    "def describe_plot(df):\n",
    "    describe = df.describe().T\n",
    "    plt.figure(figsize = (14,10))\n",
    "    sns.heatmap(describe,\n",
    "                annot = True,\n",
    "                cmap = \"Blues\",\n",
    "                fmt= '.2f',\n",
    "                linecolor = 'white',\n",
    "                linewidths = 1.35,\n",
    "                cbar = False,\n",
    "                annot_kws = {\"size\": 14})\n",
    "    plt.title(\"Numerical Variables Descriptive Statistics\" , fontsize = 20)\n",
    "    plt.show()\n",
    "    \n",
    "describe_plot(train)"
   ]
  },
  {
   "cell_type": "markdown",
   "id": "a90bb02a",
   "metadata": {},
   "source": [
    "If it is necessary to examine the graph showing the Descriptive Statistics analysis;\n",
    "- GP represents the number of games played, and we can see that the standard deviation amount is high compared to other variables. Some players have played a lot of games while others have played less, and for a player to play a lot of games means that his career year is more."
   ]
  },
  {
   "cell_type": "markdown",
   "id": "c4ef2658",
   "metadata": {},
   "source": [
    "### Detection of Features"
   ]
  },
  {
   "cell_type": "code",
   "execution_count": 373,
   "id": "35b281fc",
   "metadata": {},
   "outputs": [
    {
     "data": {
      "text/html": [
       "<div>\n",
       "<style scoped>\n",
       "    .dataframe tbody tr th:only-of-type {\n",
       "        vertical-align: middle;\n",
       "    }\n",
       "\n",
       "    .dataframe tbody tr th {\n",
       "        vertical-align: top;\n",
       "    }\n",
       "\n",
       "    .dataframe thead th {\n",
       "        text-align: right;\n",
       "    }\n",
       "</style>\n",
       "<table border=\"1\" class=\"dataframe\">\n",
       "  <thead>\n",
       "    <tr style=\"text-align: right;\">\n",
       "      <th></th>\n",
       "      <th>unique_values</th>\n",
       "    </tr>\n",
       "  </thead>\n",
       "  <tbody>\n",
       "    <tr>\n",
       "      <th>GP</th>\n",
       "      <td>274</td>\n",
       "    </tr>\n",
       "    <tr>\n",
       "      <th>MIN</th>\n",
       "      <td>514</td>\n",
       "    </tr>\n",
       "    <tr>\n",
       "      <th>PTS</th>\n",
       "      <td>392</td>\n",
       "    </tr>\n",
       "    <tr>\n",
       "      <th>FGM</th>\n",
       "      <td>289</td>\n",
       "    </tr>\n",
       "    <tr>\n",
       "      <th>FGA</th>\n",
       "      <td>366</td>\n",
       "    </tr>\n",
       "    <tr>\n",
       "      <th>FG%</th>\n",
       "      <td>480</td>\n",
       "    </tr>\n",
       "    <tr>\n",
       "      <th>3P Made</th>\n",
       "      <td>132</td>\n",
       "    </tr>\n",
       "    <tr>\n",
       "      <th>3PA</th>\n",
       "      <td>216</td>\n",
       "    </tr>\n",
       "    <tr>\n",
       "      <th>3P%</th>\n",
       "      <td>349</td>\n",
       "    </tr>\n",
       "    <tr>\n",
       "      <th>FTM</th>\n",
       "      <td>258</td>\n",
       "    </tr>\n",
       "    <tr>\n",
       "      <th>FTA</th>\n",
       "      <td>285</td>\n",
       "    </tr>\n",
       "    <tr>\n",
       "      <th>FT%</th>\n",
       "      <td>554</td>\n",
       "    </tr>\n",
       "    <tr>\n",
       "      <th>OREB</th>\n",
       "      <td>243</td>\n",
       "    </tr>\n",
       "    <tr>\n",
       "      <th>DREB</th>\n",
       "      <td>281</td>\n",
       "    </tr>\n",
       "    <tr>\n",
       "      <th>REB</th>\n",
       "      <td>306</td>\n",
       "    </tr>\n",
       "    <tr>\n",
       "      <th>AST</th>\n",
       "      <td>279</td>\n",
       "    </tr>\n",
       "    <tr>\n",
       "      <th>STL</th>\n",
       "      <td>219</td>\n",
       "    </tr>\n",
       "    <tr>\n",
       "      <th>BLK</th>\n",
       "      <td>201</td>\n",
       "    </tr>\n",
       "    <tr>\n",
       "      <th>TOV</th>\n",
       "      <td>241</td>\n",
       "    </tr>\n",
       "    <tr>\n",
       "      <th>Target</th>\n",
       "      <td>2</td>\n",
       "    </tr>\n",
       "  </tbody>\n",
       "</table>\n",
       "</div>"
      ],
      "text/plain": [
       "         unique_values\n",
       "GP                 274\n",
       "MIN                514\n",
       "PTS                392\n",
       "FGM                289\n",
       "FGA                366\n",
       "FG%                480\n",
       "3P Made            132\n",
       "3PA                216\n",
       "3P%                349\n",
       "FTM                258\n",
       "FTA                285\n",
       "FT%                554\n",
       "OREB               243\n",
       "DREB               281\n",
       "REB                306\n",
       "AST                279\n",
       "STL                219\n",
       "BLK                201\n",
       "TOV                241\n",
       "Target               2"
      ]
     },
     "execution_count": 373,
     "metadata": {},
     "output_type": "execute_result"
    }
   ],
   "source": [
    "def check_uniques(df):\n",
    "    unique_values = []\n",
    "    for col in df.columns:\n",
    "        unique_values.append(len(df[col].unique()))\n",
    "        \n",
    "    unique_dict = {'unique_values' : unique_values}\n",
    "    return pd.DataFrame(unique_dict , index=df.columns)\n",
    "check_uniques(train)"
   ]
  },
  {
   "cell_type": "markdown",
   "id": "90cfcf9f",
   "metadata": {},
   "source": [
    "The total number of observations in our dataset is 1101. It may not make sense to take a unique number on continuous variables, but we can say this. Players have some identical characteristics that belong to each other.\n",
    "- The FT% value is a value that changes much more frequently from player to player.\n",
    "- The 3P Made variant may be more similar to other variables than other variables.\n"
   ]
  },
  {
   "cell_type": "markdown",
   "id": "3ce81ecb",
   "metadata": {},
   "source": [
    "### Correlation Coefficients"
   ]
  },
  {
   "cell_type": "code",
   "execution_count": 374,
   "id": "62f06135",
   "metadata": {},
   "outputs": [],
   "source": [
    "def correlation_coefficients(df):\n",
    "    # Correlation between different variables\n",
    "    corr = df.corr()\n",
    "    # Set up the matplotlib plot configuration\n",
    "    f, ax = plt.subplots(figsize=(12, 10))\n",
    "    # Generate a mask for upper traingle\n",
    "    mask = np.triu(np.ones_like(corr, dtype=bool))\n",
    "    # Configure a custom diverging colormap\n",
    "    cmap = sns.diverging_palette(230, 20, as_cmap=True)\n",
    "    # Draw the heatmap\n",
    "    sns.heatmap(corr, annot=True, mask = mask, cmap=cmap)\n",
    "    \n",
    "def variable_variances(df):\n",
    "    return pd.DataFrame(df.var() , columns=['feature_variance'])"
   ]
  },
  {
   "cell_type": "code",
   "execution_count": 375,
   "id": "4950684f",
   "metadata": {},
   "outputs": [
    {
     "data": {
      "image/png": "[encoded data removed]",
      "text/plain": [
       "<Figure size 864x720 with 2 Axes>"
      ]
     },
     "metadata": {
      "needs_background": "light"
     },
     "output_type": "display_data"
    }
   ],
   "source": [
    "correlation_coefficients(train)"
   ]
  },
  {
   "cell_type": "code",
   "execution_count": 376,
   "id": "f9634219",
   "metadata": {},
   "outputs": [
    {
     "data": {
      "text/html": [
       "<div>\n",
       "<style scoped>\n",
       "    .dataframe tbody tr th:only-of-type {\n",
       "        vertical-align: middle;\n",
       "    }\n",
       "\n",
       "    .dataframe tbody tr th {\n",
       "        vertical-align: top;\n",
       "    }\n",
       "\n",
       "    .dataframe thead th {\n",
       "        text-align: right;\n",
       "    }\n",
       "</style>\n",
       "<table border=\"1\" class=\"dataframe\">\n",
       "  <thead>\n",
       "    <tr style=\"text-align: right;\">\n",
       "      <th></th>\n",
       "      <th>feature_variance</th>\n",
       "    </tr>\n",
       "  </thead>\n",
       "  <tbody>\n",
       "    <tr>\n",
       "      <th>3P Made</th>\n",
       "      <td>0.131775</td>\n",
       "    </tr>\n",
       "    <tr>\n",
       "      <th>STL</th>\n",
       "      <td>0.149109</td>\n",
       "    </tr>\n",
       "    <tr>\n",
       "      <th>BLK</th>\n",
       "      <td>0.175427</td>\n",
       "    </tr>\n",
       "    <tr>\n",
       "      <th>Target</th>\n",
       "      <td>0.250227</td>\n",
       "    </tr>\n",
       "    <tr>\n",
       "      <th>TOV</th>\n",
       "      <td>0.472940</td>\n",
       "    </tr>\n",
       "    <tr>\n",
       "      <th>OREB</th>\n",
       "      <td>0.594972</td>\n",
       "    </tr>\n",
       "    <tr>\n",
       "      <th>FTM</th>\n",
       "      <td>0.879066</td>\n",
       "    </tr>\n",
       "    <tr>\n",
       "      <th>3PA</th>\n",
       "      <td>1.034725</td>\n",
       "    </tr>\n",
       "    <tr>\n",
       "      <th>FTA</th>\n",
       "      <td>1.618104</td>\n",
       "    </tr>\n",
       "    <tr>\n",
       "      <th>DREB</th>\n",
       "      <td>1.802648</td>\n",
       "    </tr>\n",
       "    <tr>\n",
       "      <th>AST</th>\n",
       "      <td>1.895006</td>\n",
       "    </tr>\n",
       "    <tr>\n",
       "      <th>FGM</th>\n",
       "      <td>2.596939</td>\n",
       "    </tr>\n",
       "    <tr>\n",
       "      <th>REB</th>\n",
       "      <td>4.160353</td>\n",
       "    </tr>\n",
       "    <tr>\n",
       "      <th>FGA</th>\n",
       "      <td>11.712085</td>\n",
       "    </tr>\n",
       "    <tr>\n",
       "      <th>PTS</th>\n",
       "      <td>17.337697</td>\n",
       "    </tr>\n",
       "    <tr>\n",
       "      <th>FG%</th>\n",
       "      <td>37.294346</td>\n",
       "    </tr>\n",
       "    <tr>\n",
       "      <th>MIN</th>\n",
       "      <td>64.548509</td>\n",
       "    </tr>\n",
       "    <tr>\n",
       "      <th>FT%</th>\n",
       "      <td>107.766575</td>\n",
       "    </tr>\n",
       "    <tr>\n",
       "      <th>3P%</th>\n",
       "      <td>240.673036</td>\n",
       "    </tr>\n",
       "    <tr>\n",
       "      <th>GP</th>\n",
       "      <td>297.110255</td>\n",
       "    </tr>\n",
       "  </tbody>\n",
       "</table>\n",
       "</div>"
      ],
      "text/plain": [
       "         feature_variance\n",
       "3P Made          0.131775\n",
       "STL              0.149109\n",
       "BLK              0.175427\n",
       "Target           0.250227\n",
       "TOV              0.472940\n",
       "OREB             0.594972\n",
       "FTM              0.879066\n",
       "3PA              1.034725\n",
       "FTA              1.618104\n",
       "DREB             1.802648\n",
       "AST              1.895006\n",
       "FGM              2.596939\n",
       "REB              4.160353\n",
       "FGA             11.712085\n",
       "PTS             17.337697\n",
       "FG%             37.294346\n",
       "MIN             64.548509\n",
       "FT%            107.766575\n",
       "3P%            240.673036\n",
       "GP             297.110255"
      ]
     },
     "execution_count": 376,
     "metadata": {},
     "output_type": "execute_result"
    }
   ],
   "source": [
    "variable_variances(train).sort_values(by = 'feature_variance')"
   ]
  },
  {
   "cell_type": "markdown",
   "id": "983f1abd",
   "metadata": {},
   "source": [
    "When we look at the variance values, there are variables with very high variance, so we will need to scale up."
   ]
  },
  {
   "cell_type": "code",
   "execution_count": 377,
   "id": "962de848",
   "metadata": {},
   "outputs": [],
   "source": [
    "def corrFilter(x: pd.DataFrame, bound: float , corr_method  ='pearson'):\n",
    "    xCorr = x.corr(method=corr_method)\n",
    "    xFiltered = xCorr[((xCorr >= bound) | (xCorr <= -bound)) & (xCorr !=1.000)]\n",
    "    xFlattened = xFiltered.unstack().sort_values().drop_duplicates()\n",
    "    return xFlattened"
   ]
  },
  {
   "cell_type": "code",
   "execution_count": 378,
   "id": "8a8171ed",
   "metadata": {
    "scrolled": true
   },
   "outputs": [
    {
     "data": {
      "text/plain": [
       "DREB     REB    0.979235\n",
       "FGM      FGA    0.979742\n",
       "PTS      FGA    0.980013\n",
       "FTM      FTA    0.980388\n",
       "3P Made  3PA    0.982678\n",
       "PTS      FGM    0.991033\n",
       "GP       GP          NaN\n",
       "dtype: float64"
      ]
     },
     "execution_count": 378,
     "metadata": {},
     "output_type": "execute_result"
    }
   ],
   "source": [
    "corrFilter(train, .95)"
   ]
  },
  {
   "cell_type": "code",
   "execution_count": 379,
   "id": "e0be866d",
   "metadata": {},
   "outputs": [
    {
     "data": {
      "text/plain": [
       "GP  GP   NaN\n",
       "dtype: float64"
      ]
     },
     "execution_count": 379,
     "metadata": {},
     "output_type": "execute_result"
    }
   ],
   "source": [
    "corrFilter(train, .95 , 'kendall')"
   ]
  },
  {
   "cell_type": "code",
   "execution_count": 380,
   "id": "594cf518",
   "metadata": {},
   "outputs": [
    {
     "data": {
      "text/plain": [
       "FGM   FGA    0.971527\n",
       "DREB  REB    0.972044\n",
       "PTS   FGA    0.973548\n",
       "FTM   FTA    0.975880\n",
       "PTS   FGM    0.990081\n",
       "GP    GP          NaN\n",
       "dtype: float64"
      ]
     },
     "execution_count": 380,
     "metadata": {},
     "output_type": "execute_result"
    }
   ],
   "source": [
    "corrFilter(train, .95 , 'spearman')"
   ]
  },
  {
   "cell_type": "markdown",
   "id": "95eff672",
   "metadata": {},
   "source": [
    "We have variables with a correlation amount of more than 0.95 between 3 different types of correlation and variables, and it may be sufficient to keep one of these variables. The relationship between each other is so close that we can reduce model complexity by removing one.\n",
    "\n",
    "Since removing variables will result in a huge loss of information, and we want to make sure before removing them, we will be checking again through multiple linearity."
   ]
  },
  {
   "cell_type": "code",
   "execution_count": 381,
   "id": "8755214c",
   "metadata": {},
   "outputs": [],
   "source": [
    "# compute the vif for all given features\n",
    "def compute_vif(df, considered_features):\n",
    "    \n",
    "    X = df[considered_features]\n",
    "    # the calculation of variance inflation requires a constant\n",
    "    X['intercept'] = 1\n",
    "    \n",
    "    # create dataframe to store vif values\n",
    "    vif = pd.DataFrame()\n",
    "    vif[\"Variable\"] = X.columns\n",
    "    vif[\"VIF\"] = [variance_inflation_factor(X.values, i) for i in range(X.shape[1])]\n",
    "    vif = vif[vif['Variable']!='intercept']\n",
    "    return vif"
   ]
  },
  {
   "cell_type": "code",
   "execution_count": 382,
   "id": "4076ce2e",
   "metadata": {
    "scrolled": false
   },
   "outputs": [
    {
     "data": {
      "text/html": [
       "<div>\n",
       "<style scoped>\n",
       "    .dataframe tbody tr th:only-of-type {\n",
       "        vertical-align: middle;\n",
       "    }\n",
       "\n",
       "    .dataframe tbody tr th {\n",
       "        vertical-align: top;\n",
       "    }\n",
       "\n",
       "    .dataframe thead th {\n",
       "        text-align: right;\n",
       "    }\n",
       "</style>\n",
       "<table border=\"1\" class=\"dataframe\">\n",
       "  <thead>\n",
       "    <tr style=\"text-align: right;\">\n",
       "      <th></th>\n",
       "      <th>Variable</th>\n",
       "      <th>VIF</th>\n",
       "    </tr>\n",
       "  </thead>\n",
       "  <tbody>\n",
       "    <tr>\n",
       "      <th>2</th>\n",
       "      <td>PTS</td>\n",
       "      <td>3666.287286</td>\n",
       "    </tr>\n",
       "    <tr>\n",
       "      <th>3</th>\n",
       "      <td>FGM</td>\n",
       "      <td>2143.245768</td>\n",
       "    </tr>\n",
       "    <tr>\n",
       "      <th>14</th>\n",
       "      <td>REB</td>\n",
       "      <td>1961.980997</td>\n",
       "    </tr>\n",
       "    <tr>\n",
       "      <th>13</th>\n",
       "      <td>DREB</td>\n",
       "      <td>853.769413</td>\n",
       "    </tr>\n",
       "    <tr>\n",
       "      <th>12</th>\n",
       "      <td>OREB</td>\n",
       "      <td>284.782589</td>\n",
       "    </tr>\n",
       "    <tr>\n",
       "      <th>9</th>\n",
       "      <td>FTM</td>\n",
       "      <td>220.427740</td>\n",
       "    </tr>\n",
       "    <tr>\n",
       "      <th>4</th>\n",
       "      <td>FGA</td>\n",
       "      <td>131.014763</td>\n",
       "    </tr>\n",
       "    <tr>\n",
       "      <th>10</th>\n",
       "      <td>FTA</td>\n",
       "      <td>70.629762</td>\n",
       "    </tr>\n",
       "    <tr>\n",
       "      <th>6</th>\n",
       "      <td>3P Made</td>\n",
       "      <td>57.351380</td>\n",
       "    </tr>\n",
       "    <tr>\n",
       "      <th>7</th>\n",
       "      <td>3PA</td>\n",
       "      <td>40.088923</td>\n",
       "    </tr>\n",
       "    <tr>\n",
       "      <th>1</th>\n",
       "      <td>MIN</td>\n",
       "      <td>17.359164</td>\n",
       "    </tr>\n",
       "    <tr>\n",
       "      <th>18</th>\n",
       "      <td>TOV</td>\n",
       "      <td>7.697569</td>\n",
       "    </tr>\n",
       "    <tr>\n",
       "      <th>15</th>\n",
       "      <td>AST</td>\n",
       "      <td>5.059379</td>\n",
       "    </tr>\n",
       "    <tr>\n",
       "      <th>5</th>\n",
       "      <td>FG%</td>\n",
       "      <td>3.995996</td>\n",
       "    </tr>\n",
       "    <tr>\n",
       "      <th>16</th>\n",
       "      <td>STL</td>\n",
       "      <td>3.614298</td>\n",
       "    </tr>\n",
       "    <tr>\n",
       "      <th>11</th>\n",
       "      <td>FT%</td>\n",
       "      <td>2.434074</td>\n",
       "    </tr>\n",
       "    <tr>\n",
       "      <th>17</th>\n",
       "      <td>BLK</td>\n",
       "      <td>2.392677</td>\n",
       "    </tr>\n",
       "    <tr>\n",
       "      <th>8</th>\n",
       "      <td>3P%</td>\n",
       "      <td>1.906080</td>\n",
       "    </tr>\n",
       "    <tr>\n",
       "      <th>0</th>\n",
       "      <td>GP</td>\n",
       "      <td>1.726425</td>\n",
       "    </tr>\n",
       "  </tbody>\n",
       "</table>\n",
       "</div>"
      ],
      "text/plain": [
       "   Variable          VIF\n",
       "2       PTS  3666.287286\n",
       "3       FGM  2143.245768\n",
       "14      REB  1961.980997\n",
       "13     DREB   853.769413\n",
       "12     OREB   284.782589\n",
       "9       FTM   220.427740\n",
       "4       FGA   131.014763\n",
       "10      FTA    70.629762\n",
       "6   3P Made    57.351380\n",
       "7       3PA    40.088923\n",
       "1       MIN    17.359164\n",
       "18      TOV     7.697569\n",
       "15      AST     5.059379\n",
       "5       FG%     3.995996\n",
       "16      STL     3.614298\n",
       "11      FT%     2.434074\n",
       "17      BLK     2.392677\n",
       "8       3P%     1.906080\n",
       "0        GP     1.726425"
      ]
     },
     "execution_count": 382,
     "metadata": {},
     "output_type": "execute_result"
    }
   ],
   "source": [
    "compute_vif(train , train.columns[:-1]).sort_values(by = 'VIF' ,ascending = False)"
   ]
  },
  {
   "cell_type": "markdown",
   "id": "80b64f22",
   "metadata": {},
   "source": [
    "When we examine the correlation relationships with different methods, we can see that there are variables with very high VIF value and at the same time high correlation relationship with other variables."
   ]
  },
  {
   "cell_type": "markdown",
   "id": "e89c5b6a",
   "metadata": {},
   "source": [
    "### Outlier and Missing Values Analysis"
   ]
  },
  {
   "cell_type": "code",
   "execution_count": 383,
   "id": "05b5bc66",
   "metadata": {
    "scrolled": false
   },
   "outputs": [
    {
     "data": {
      "text/html": [
       "<div>\n",
       "<style scoped>\n",
       "    .dataframe tbody tr th:only-of-type {\n",
       "        vertical-align: middle;\n",
       "    }\n",
       "\n",
       "    .dataframe tbody tr th {\n",
       "        vertical-align: top;\n",
       "    }\n",
       "\n",
       "    .dataframe thead th {\n",
       "        text-align: right;\n",
       "    }\n",
       "</style>\n",
       "<table border=\"1\" class=\"dataframe\">\n",
       "  <thead>\n",
       "    <tr style=\"text-align: right;\">\n",
       "      <th></th>\n",
       "      <th>missing_values</th>\n",
       "    </tr>\n",
       "  </thead>\n",
       "  <tbody>\n",
       "    <tr>\n",
       "      <th>GP</th>\n",
       "      <td>0</td>\n",
       "    </tr>\n",
       "    <tr>\n",
       "      <th>MIN</th>\n",
       "      <td>0</td>\n",
       "    </tr>\n",
       "    <tr>\n",
       "      <th>PTS</th>\n",
       "      <td>0</td>\n",
       "    </tr>\n",
       "    <tr>\n",
       "      <th>FGM</th>\n",
       "      <td>0</td>\n",
       "    </tr>\n",
       "    <tr>\n",
       "      <th>FGA</th>\n",
       "      <td>0</td>\n",
       "    </tr>\n",
       "    <tr>\n",
       "      <th>FG%</th>\n",
       "      <td>0</td>\n",
       "    </tr>\n",
       "    <tr>\n",
       "      <th>3P Made</th>\n",
       "      <td>0</td>\n",
       "    </tr>\n",
       "    <tr>\n",
       "      <th>3PA</th>\n",
       "      <td>0</td>\n",
       "    </tr>\n",
       "    <tr>\n",
       "      <th>3P%</th>\n",
       "      <td>0</td>\n",
       "    </tr>\n",
       "    <tr>\n",
       "      <th>FTM</th>\n",
       "      <td>0</td>\n",
       "    </tr>\n",
       "    <tr>\n",
       "      <th>FTA</th>\n",
       "      <td>0</td>\n",
       "    </tr>\n",
       "    <tr>\n",
       "      <th>FT%</th>\n",
       "      <td>0</td>\n",
       "    </tr>\n",
       "    <tr>\n",
       "      <th>OREB</th>\n",
       "      <td>0</td>\n",
       "    </tr>\n",
       "    <tr>\n",
       "      <th>DREB</th>\n",
       "      <td>0</td>\n",
       "    </tr>\n",
       "    <tr>\n",
       "      <th>REB</th>\n",
       "      <td>0</td>\n",
       "    </tr>\n",
       "    <tr>\n",
       "      <th>AST</th>\n",
       "      <td>0</td>\n",
       "    </tr>\n",
       "    <tr>\n",
       "      <th>STL</th>\n",
       "      <td>0</td>\n",
       "    </tr>\n",
       "    <tr>\n",
       "      <th>BLK</th>\n",
       "      <td>0</td>\n",
       "    </tr>\n",
       "    <tr>\n",
       "      <th>TOV</th>\n",
       "      <td>0</td>\n",
       "    </tr>\n",
       "    <tr>\n",
       "      <th>Target</th>\n",
       "      <td>0</td>\n",
       "    </tr>\n",
       "  </tbody>\n",
       "</table>\n",
       "</div>"
      ],
      "text/plain": [
       "         missing_values\n",
       "GP                    0\n",
       "MIN                   0\n",
       "PTS                   0\n",
       "FGM                   0\n",
       "FGA                   0\n",
       "FG%                   0\n",
       "3P Made               0\n",
       "3PA                   0\n",
       "3P%                   0\n",
       "FTM                   0\n",
       "FTA                   0\n",
       "FT%                   0\n",
       "OREB                  0\n",
       "DREB                  0\n",
       "REB                   0\n",
       "AST                   0\n",
       "STL                   0\n",
       "BLK                   0\n",
       "TOV                   0\n",
       "Target                0"
      ]
     },
     "execution_count": 383,
     "metadata": {},
     "output_type": "execute_result"
    }
   ],
   "source": [
    "# Checking Missing Values\n",
    "pd.DataFrame(train.isna().sum() , columns=['missing_values'])"
   ]
  },
  {
   "cell_type": "markdown",
   "id": "77ed6d7f",
   "metadata": {},
   "source": [
    "There is no missing value in our data set."
   ]
  },
  {
   "cell_type": "code",
   "execution_count": 384,
   "id": "ad0bad43",
   "metadata": {},
   "outputs": [],
   "source": [
    "def outlier_analysis(selection , df):\n",
    "    columns = df.columns[:-1]\n",
    "    # Outlier Box Plot\n",
    "    if selection == 0:\n",
    "        for col in columns:\n",
    "            plt.figure(figsize=(3,3))\n",
    "            sns.boxplot(df[col])\n",
    "    plt.show()\n",
    "        \n",
    "    # IQR Range Outliers\n",
    "    if selection == 1:\n",
    "        outlier_dict = dict()\n",
    "        for col in columns:\n",
    "            Q1 = df[col].quantile(0.25)\n",
    "            Q3 = df[col].quantile(0.75)\n",
    "            IQR = Q3-Q1\n",
    "            lower , upper = ('%.2f' % (Q1 - 1.5 * IQR)), ('%.2f' % (Q3 + 1.5 * IQR))\n",
    "            outlier_dict[col] = (lower ,upper)\n",
    "        return outlier_dict  "
   ]
  },
  {
   "cell_type": "markdown",
   "id": "5fd4cd76",
   "metadata": {},
   "source": [
    "There are many methods by which we can observe outliers. When we observe the outliers on the two most common methods, we can see that our variables have outliers. Especially when we look at the graphs, there is a lot of data that exceeds the max value, but it would not make sense to remove all of them, so we will be looking at the most extreme points when uninstalling. We will be examining the values that distinguish ourselves from other values and removing those values."
   ]
  },
  {
   "cell_type": "code",
   "execution_count": 24,
   "id": "7933c5b5",
   "metadata": {
    "scrolled": true
   },
   "outputs": [
    {
     "data": {
      "image/png": "[encoded data removed]",
      "text/plain": [
       "<Figure size 216x216 with 1 Axes>"
      ]
     },
     "metadata": {
      "needs_background": "light"
     },
     "output_type": "display_data"
    },
    {
     "data": {
      "image/png": "[encoded data removed]",
      "text/plain": [
       "<Figure size 216x216 with 1 Axes>"
      ]
     },
     "metadata": {
      "needs_background": "light"
     },
     "output_type": "display_data"
    },
    {
     "data": {
      "image/png": "[encoded data removed]",
      "text/plain": [
       "<Figure size 216x216 with 1 Axes>"
      ]
     },
     "metadata": {
      "needs_background": "light"
     },
     "output_type": "display_data"
    },
    {
     "data": {
      "image/png": "[encoded data removed]",
      "text/plain": [
       "<Figure size 216x216 with 1 Axes>"
      ]
     },
     "metadata": {
      "needs_background": "light"
     },
     "output_type": "display_data"
    },
    {
     "data": {
      "image/png": "[encoded data removed]",
      "text/plain": [
       "<Figure size 216x216 with 1 Axes>"
      ]
     },
     "metadata": {
      "needs_background": "light"
     },
     "output_type": "display_data"
    },
    {
     "data": {
      "image/png": "[encoded data removed]",
      "text/plain": [
       "<Figure size 216x216 with 1 Axes>"
      ]
     },
     "metadata": {
      "needs_background": "light"
     },
     "output_type": "display_data"
    },
    {
     "data": {
      "image/png": "[encoded data removed]",
      "text/plain": [
       "<Figure size 216x216 with 1 Axes>"
      ]
     },
     "metadata": {
      "needs_background": "light"
     },
     "output_type": "display_data"
    },
    {
     "data": {
      "image/png": "[encoded data removed]",
      "text/plain": [
       "<Figure size 216x216 with 1 Axes>"
      ]
     },
     "metadata": {
      "needs_background": "light"
     },
     "output_type": "display_data"
    },
    {
     "data": {
      "image/png": "[encoded data removed]",
      "text/plain": [
       "<Figure size 216x216 with 1 Axes>"
      ]
     },
     "metadata": {
      "needs_background": "light"
     },
     "output_type": "display_data"
    },
    {
     "data": {
      "image/png": "[encoded data removed]",
      "text/plain": [
       "<Figure size 216x216 with 1 Axes>"
      ]
     },
     "metadata": {
      "needs_background": "light"
     },
     "output_type": "display_data"
    },
    {
     "data": {
      "image/png": "[encoded data removed]",
      "text/plain": [
       "<Figure size 216x216 with 1 Axes>"
      ]
     },
     "metadata": {
      "needs_background": "light"
     },
     "output_type": "display_data"
    },
    {
     "data": {
      "image/png": "[encoded data removed]",
      "text/plain": [
       "<Figure size 216x216 with 1 Axes>"
      ]
     },
     "metadata": {
      "needs_background": "light"
     },
     "output_type": "display_data"
    },
    {
     "data": {
      "image/png": "[encoded data removed]",
      "text/plain": [
       "<Figure size 216x216 with 1 Axes>"
      ]
     },
     "metadata": {
      "needs_background": "light"
     },
     "output_type": "display_data"
    },
    {
     "data": {
      "image/png": "[encoded data removed]",
      "text/plain": [
       "<Figure size 216x216 with 1 Axes>"
      ]
     },
     "metadata": {
      "needs_background": "light"
     },
     "output_type": "display_data"
    },
    {
     "data": {
      "image/png": "[encoded data removed]",
      "text/plain": [
       "<Figure size 216x216 with 1 Axes>"
      ]
     },
     "metadata": {
      "needs_background": "light"
     },
     "output_type": "display_data"
    },
    {
     "data": {
      "image/png": "[encoded data removed]",
      "text/plain": [
       "<Figure size 216x216 with 1 Axes>"
      ]
     },
     "metadata": {
      "needs_background": "light"
     },
     "output_type": "display_data"
    },
    {
     "data": {
      "image/png": "[encoded data removed]",
      "text/plain": [
       "<Figure size 216x216 with 1 Axes>"
      ]
     },
     "metadata": {
      "needs_background": "light"
     },
     "output_type": "display_data"
    },
    {
     "data": {
      "image/png": "[encoded data removed]",
      "text/plain": [
       "<Figure size 216x216 with 1 Axes>"
      ]
     },
     "metadata": {
      "needs_background": "light"
     },
     "output_type": "display_data"
    },
    {
     "data": {
      "image/png": "[encoded data removed]",
      "text/plain": [
       "<Figure size 216x216 with 1 Axes>"
      ]
     },
     "metadata": {
      "needs_background": "light"
     },
     "output_type": "display_data"
    },
    {
     "data": {
      "text/plain": [
       "{'GP': ('1.56', '120.67'),\n",
       " 'MIN': ('-6.51', '38.84'),\n",
       " 'PTS': ('-3.48', '15.37'),\n",
       " 'FGM': ('-1.30', '5.90'),\n",
       " 'FGA': ('-2.35', '12.45'),\n",
       " 'FG%': ('28.45', '59.25'),\n",
       " '3P Made': ('-0.60', '1.00'),\n",
       " '3PA': ('-1.79', '2.99'),\n",
       " '3P%': ('-48.45', '80.75'),\n",
       " 'FTM': ('-0.90', '3.10'),\n",
       " 'FTA': ('-1.05', '4.15'),\n",
       " 'FT%': ('46.09', '96.24'),\n",
       " 'OREB': ('-0.95', '2.65'),\n",
       " 'DREB': ('-1.25', '4.75'),\n",
       " 'REB': ('-2.05', '7.15'),\n",
       " 'AST': ('-1.35', '3.85'),\n",
       " 'STL': ('-0.45', '1.55'),\n",
       " 'BLK': ('-0.35', '0.85'),\n",
       " 'TOV': ('-0.35', '2.45')}"
      ]
     },
     "execution_count": 24,
     "metadata": {},
     "output_type": "execute_result"
    }
   ],
   "source": [
    "outlier_analysis(0 , train)\n",
    "outlier_analysis(1 , train)"
   ]
  },
  {
   "cell_type": "markdown",
   "id": "536e311f",
   "metadata": {},
   "source": [
    "Aykırı gözlem analizi yaparak veri setimizdeki aykırı değerler tespit edilmiştir."
   ]
  },
  {
   "cell_type": "markdown",
   "id": "5dc30da2",
   "metadata": {},
   "source": [
    "### Feature Engineering\n",
    " - Remove Outlier Values\n",
    " - Remove High Corelation Features\n",
    " - Normalization\n",
    " \n",
    "Pre-processing steps that we will perform. Since there are no missing data in our data set, no operation has been performed on the missing values. While we use the scaling process in different algorithms, we will not use it in some algorithms, and based on this, the preprocessing function has been created."
   ]
  },
  {
   "cell_type": "markdown",
   "id": "b8e5d28f",
   "metadata": {},
   "source": [
    "```python\n",
    "def remove_outliers(df, outliers_dict):\n",
    "    values = list(outliers_dict.values())\n",
    "    keys = list(outliers_dict.keys())\n",
    "    for index ,key in enumerate(keys):\n",
    "        df = df[~((df[key] < float(values[index][0])) | (df[key] > float(values[index][1])))]\n",
    "        \n",
    "    return df      \n",
    "\n",
    "outliers_dict = outlier_analysis(1 , train)\n",
    "df = remove_outliers(train ,outliers_dict )\n",
    "```"
   ]
  },
  {
   "cell_type": "code",
   "execution_count": 459,
   "id": "3f036a16",
   "metadata": {},
   "outputs": [],
   "source": [
    "def preprocessing(df , control = 0):\n",
    "    # Dataset Columns\n",
    "    columns = ['GP', 'MIN', 'FGM', 'FG%', '3P Made', '3P%',\n",
    "       'FTA', 'FT%','OREB', 'REB', 'AST', 'STL', 'TOV']\n",
    "    # Remove Features\n",
    "    df = df.drop(columns = ['PTS' , 'DREB', 'FTM', 'FGA' ,'3PA'] , axis = 1)\n",
    "    \n",
    "    if control == 1:\n",
    "        # Remove Outliers\n",
    "        df = df[~(df['MIN'] > 38.84)]\n",
    "        df = df[~(df['3P%'] > 80.75)]\n",
    "        df = df[~(df['FG%'] > 60)]\n",
    "        df = df[~(df['BLK'] > 3)]\n",
    "        df = df[~(df['OREB'] > 5)]\n",
    "        df = df[~(df['FTA'] > 9)]\n",
    "        df = df[~((df['FT%'] < 30) | (df['FT%'] > 96.24))]\n",
    "    \n",
    "       \n",
    "    # Normalization    \n",
    "    if control == 2:\n",
    "        scaler = StandardScaler()\n",
    "        df[columns] = scaler.fit_transform(df[columns])\n",
    "        \n",
    "    return df"
   ]
  },
  {
   "cell_type": "code",
   "execution_count": 479,
   "id": "2c0e14c2",
   "metadata": {},
   "outputs": [],
   "source": [
    "# Get the Dataset\n",
    "df = preprocessing(train, control=1)\n",
    "test_set = preprocessing(test)"
   ]
  },
  {
   "cell_type": "markdown",
   "id": "78639d54",
   "metadata": {},
   "source": [
    "### Model Selecting and Fitting\n",
    "\n",
    "Before we start hyperparameter tuning our model, we will be looking for the models that give the best results and thus we will only be getting the models that work for us without performing parameter updating of multiple models."
   ]
  },
  {
   "cell_type": "code",
   "execution_count": 480,
   "id": "e0a83ad4",
   "metadata": {},
   "outputs": [],
   "source": [
    "def split_data(df):\n",
    "    # Train Set\n",
    "    X = df.drop('Target' , axis = 1)\n",
    "    y = df['Target']\n",
    "    \n",
    "    X_train , X_test , y_train , y_test = train_test_split(X , y , test_size=0.2 , random_state=1111)\n",
    "    \n",
    "    return X_train , X_test , y_train , y_test , X , y\n",
    "\n",
    "\n",
    "def model_training(inputs , labels , models , input_test , input_label):\n",
    "    train_accuracy = {}\n",
    "    test_accuracy = {}\n",
    "    for name , model in models.items():\n",
    "        # model training\n",
    "        model.fit(inputs , labels)\n",
    "        # predictions\n",
    "        pred_train = model.predict(inputs)\n",
    "        pred_test = model.predict(input_test)\n",
    "        # accuracy score \n",
    "        train_accuracy[name] = accuracy_score(pred_train , labels)\n",
    "        test_accuracy[name] = accuracy_score(pred_test , input_label)\n",
    "        \n",
    "    return train_accuracy , test_accuracy\n",
    "\n",
    "\n",
    "def cross_validation_training(X , y , n_split ,  models):\n",
    "    cv_accuracy = {}\n",
    "    kf = KFold(n_splits = n_split)\n",
    "    for name , model in models.items():\n",
    "        # cv training\n",
    "        cv = cross_val_score(model , X , y  ,cv = kf , n_jobs = -1 , scoring='accuracy')\n",
    "        cv_accuracy[name] = np.mean(cv)\n",
    "    return cv_accuracy"
   ]
  },
  {
   "cell_type": "code",
   "execution_count": 516,
   "id": "783665d7",
   "metadata": {},
   "outputs": [],
   "source": [
    "X_train , X_test , y_train , y_test , X, y = split_data(df)\n",
    "models = {'Random Forest Classifier': RandomForestClassifier() ,\n",
    "          'KNN' : KNeighborsClassifier() , \n",
    "          'Xgboost' : xgboost.XGBClassifier() ,\n",
    "          'Support Vector Machine':  SVC() , \n",
    "          'Logistic Regression' :  LogisticRegression(solver='lbfgs', max_iter=1000) ,\n",
    "          'DecisionTreeClassifier': DecisionTreeClassifier(),\n",
    "         'GradientBoostingClassifier' : GradientBoostingClassifier()}"
   ]
  },
  {
   "cell_type": "code",
   "execution_count": 517,
   "id": "3119d9da",
   "metadata": {},
   "outputs": [],
   "source": [
    "# Default Model Training\n",
    "train_accuracy , test_accuracy = model_training(X_train, y_train , models , X_test , y_test)"
   ]
  },
  {
   "cell_type": "code",
   "execution_count": 518,
   "id": "6ca32f15",
   "metadata": {},
   "outputs": [
    {
     "data": {
      "text/plain": [
       "{'Random Forest Classifier': 0.9884125144843569,\n",
       " 'KNN': 0.7879490150637312,\n",
       " 'Xgboost': 0.9884125144843569,\n",
       " 'Support Vector Machine': 0.6836616454229433,\n",
       " 'Logistic Regression': 0.7056778679026651,\n",
       " 'DecisionTreeClassifier': 0.9884125144843569,\n",
       " 'GradientBoostingClassifier': 0.8899188876013905}"
      ]
     },
     "execution_count": 518,
     "metadata": {},
     "output_type": "execute_result"
    }
   ],
   "source": [
    "train_accuracy"
   ]
  },
  {
   "cell_type": "code",
   "execution_count": 519,
   "id": "fa98e11f",
   "metadata": {
    "scrolled": true
   },
   "outputs": [
    {
     "data": {
      "text/plain": [
       "{'Random Forest Classifier': 0.7824074074074074,\n",
       " 'KNN': 0.7083333333333334,\n",
       " 'Xgboost': 0.7777777777777778,\n",
       " 'Support Vector Machine': 0.6898148148148148,\n",
       " 'Logistic Regression': 0.6990740740740741,\n",
       " 'DecisionTreeClassifier': 0.6388888888888888,\n",
       " 'GradientBoostingClassifier': 0.7685185185185185}"
      ]
     },
     "execution_count": 519,
     "metadata": {},
     "output_type": "execute_result"
    }
   ],
   "source": [
    "test_accuracy"
   ]
  },
  {
   "cell_type": "code",
   "execution_count": 512,
   "id": "08343fb8",
   "metadata": {},
   "outputs": [],
   "source": [
    "# Cross Validation\n",
    "cv_accuracy = cross_validation_training(X , y  , 10, models=models)"
   ]
  },
  {
   "cell_type": "code",
   "execution_count": 513,
   "id": "aab2f098",
   "metadata": {
    "scrolled": true
   },
   "outputs": [
    {
     "data": {
      "text/plain": [
       "{'Random Forest Classifier': 0.7460453444098303,\n",
       " 'KNN': 0.7006317064728279,\n",
       " 'Xgboost': 0.7135687088958118,\n",
       " 'Support Vector Machine': 0.6848736587054344,\n",
       " 'Logistic Regression': 0.7006143994461752,\n",
       " 'DecisionTreeClassifier': 0.6450155763239876,\n",
       " 'GradientBoostingClassifier': 0.7265143648321217}"
      ]
     },
     "execution_count": 513,
     "metadata": {},
     "output_type": "execute_result"
    }
   ],
   "source": [
    "cv_accuracy"
   ]
  },
  {
   "cell_type": "markdown",
   "id": "a21ac669",
   "metadata": {},
   "source": [
    "GradientBoostingClassifier, Xgboost, and Random Forest Classifier were the ones that gave the best results. Now we can move on to the hyperparameter tuning section."
   ]
  },
  {
   "cell_type": "markdown",
   "id": "da2d2460",
   "metadata": {},
   "source": [
    "### Hyperparameter Tuning"
   ]
  },
  {
   "cell_type": "markdown",
   "id": "385520c9",
   "metadata": {},
   "source": [
    "After passing the phase of testing our models, we will be trying to find the optimum parameter values by performing hyperparameter tuning on the RandomForest Classifier model."
   ]
  },
  {
   "cell_type": "code",
   "execution_count": 566,
   "id": "c7e639f6",
   "metadata": {},
   "outputs": [],
   "source": [
    "# RandomForest Classifier\n",
    "param_rfc = {'n_estimators': [int(x) for x in np.linspace(start = 200, stop = 2000, num = 10)],\n",
    "               'max_features': ['auto', 'sqrt'],\n",
    "               'max_depth': [10, 20, 30, 40, 50, 60, 70, 80, 90, 100],\n",
    "               'min_samples_split': [2, 5, 10],\n",
    "               'min_samples_leaf': [1, 2, 4],\n",
    "               'bootstrap': [True, False]}\n",
    "\n",
    "\n",
    "# XGBClassifier\n",
    "param_xgb = {'max_depth': [3, 6, 10, 15],\n",
    "              'learning_rate': [0.01, 0.1, 0.2, 0.3, 0.4],\n",
    "              'subsample': np.arange(0.5, 1.0, 0.1),\n",
    "              'colsample_bytree': np.arange(0.5, 1.0, 0.1),\n",
    "              'colsample_bylevel': np.arange(0.5, 1.0, 0.1),\n",
    "              'n_estimators': [100, 250, 500, 750],\n",
    "              'num_class': [10]\n",
    "              }\n",
    "\n",
    "# DesicionTreeClassifier\n",
    "parameters = dict(pca__n_components=list(range(1,X.shape[1]+1,1)),\n",
    "                      dec_tree__criterion=['gini', 'entropy'],\n",
    "                      dec_tree__max_depth=[2,4,6,8,10,12])\n",
    "\n",
    "\n",
    "# KNeighborsClassifier\n",
    "param_knn = {'n_neighbors' : np.arange(1, 16),\n",
    "             'metric' : ['euclidean','manhattan']}\n",
    "\n",
    "# GradientBoostingClassifier   \n",
    "param_sgb = {'n_estimators':[10, 100, 1000],\n",
    "            'learning_rate' : [0.01, 0.1, 0.2, 0.3, 0.4],\n",
    "            'subsample' :[0.5, 0.7, 1.0],\n",
    "            'max_depth' : [10, 20, 30, 40, 50, 60, 70, 80, 90, 100]}\n",
    "\n",
    "# LogisticRegression\n",
    "param_lr= [    \n",
    "    {'penalty' : ['l1', 'l2', 'elasticnet', 'none'],\n",
    "    'C' : np.logspace(-4, 4, 20),\n",
    "    'solver' : ['lbfgs','newton-cg','liblinear','sag','saga'],\n",
    "    'max_iter' : [100, 1000,2500, 5000]\n",
    "    }]"
   ]
  },
  {
   "cell_type": "code",
   "execution_count": 557,
   "id": "acb9d462",
   "metadata": {},
   "outputs": [],
   "source": [
    "def hyperparameter_tuning(train_features , train_labels , model , params  , check):\n",
    "    # Randomized Search CV\n",
    "    if check == 0:\n",
    "        randomized_cv = RandomizedSearchCV(estimator=model , param_distributions=params ,cv = 10  ,n_jobs=-1 ,n_iter = 100, verbose=True)\n",
    "        randomized_cv.fit(train_features , train_labels)\n",
    "        # parameters and best model\n",
    "        best_params = randomized_cv.best_params_\n",
    "        best_model = randomized_cv.best_estimator_\n",
    "\n",
    "        return best_params ,best_model\n",
    "    # GridSearchCV\n",
    "    if check == 1:\n",
    "        grid_cv = GridSearchCV(estimator=model , param_grid=params , cv = 10, n_jobs=-1, verbose = True)\n",
    "        grid_cv.fit(train_features ,train_labels)\n",
    "        \n",
    "        return grid_cv.best_params_ , grid_cv.best_estimator_\n"
   ]
  },
  {
   "cell_type": "code",
   "execution_count": null,
   "id": "dffae255",
   "metadata": {
    "scrolled": false
   },
   "outputs": [],
   "source": [
    "best_params , best_model = hyperparameter_tuning(X_train , y_train ,XGBClassifier() ,param_xgb , check=0)"
   ]
  },
  {
   "cell_type": "code",
   "execution_count": 544,
   "id": "adf0fbbb",
   "metadata": {
    "scrolled": false
   },
   "outputs": [],
   "source": [
    "# Model Training with best model\n",
    "final_model = best_model.fit(X,y)"
   ]
  },
  {
   "cell_type": "code",
   "execution_count": 545,
   "id": "8856139b",
   "metadata": {},
   "outputs": [],
   "source": [
    "def prediction(model, x_test , y_test):\n",
    "    pred = model.predict(x_test)\n",
    "    return accuracy_score(pred , y_test)"
   ]
  },
  {
   "cell_type": "code",
   "execution_count": 546,
   "id": "53d958bf",
   "metadata": {},
   "outputs": [
    {
     "data": {
      "text/plain": [
       "1.0"
      ]
     },
     "execution_count": 546,
     "metadata": {},
     "output_type": "execute_result"
    }
   ],
   "source": [
    "prediction(final_model, X_test , y_test)"
   ]
  },
  {
   "cell_type": "markdown",
   "id": "5d7d3040",
   "metadata": {},
   "source": [
    "After evaluating the y_test and X_test I booked through the Train set, GradientBoostingClassifier gave the best result, achieving a high score."
   ]
  }
 ],
 "metadata": {
  "kernelspec": {
   "display_name": "Python 3 (ipykernel)",
   "language": "python",
   "name": "python3"
  },
  "language_info": {
   "codemirror_mode": {
    "name": "ipython",
    "version": 3
   },
   "file_extension": ".py",
   "mimetype": "text/x-python",
   "name": "python",
   "nbconvert_exporter": "python",
   "pygments_lexer": "ipython3",
   "version": "3.9.12"
  }
 },
 "nbformat": 4,
 "nbformat_minor": 5
}
